{
 "cells": [
  {
   "cell_type": "code",
   "execution_count": 1,
   "id": "fee91226",
   "metadata": {},
   "outputs": [],
   "source": [
    "from pyscipopt import Model"
   ]
  },
  {
   "cell_type": "code",
   "execution_count": 2,
   "id": "a69fa8ab",
   "metadata": {},
   "outputs": [
    {
     "name": "stdout",
     "output_type": "stream",
     "text": [
      "SCIP version 9.1.0 [precision: 8 byte] [memory: block] [mode: optimized] [LP solver: Soplex 7.1.0] [GitHash: NoGitInfo]\n",
      "Copyright (c) 2002-2024 Zuse Institute Berlin (ZIB)\n",
      "Help on method addVar in module pyscipopt.scip:\n",
      "\n",
      "addVar(name='', vtype='C', lb=0.0, ub=None, obj=0.0, pricedVar=False, pricedVarScore=1.0) method of pyscipopt.scip.Model instance\n",
      "    Create a new variable. Default variable is non-negative and continuous.\n",
      "    \n",
      "    :param name: name of the variable, generic if empty (Default value = '')\n",
      "    :param vtype: type of the variable: 'C' continuous, 'I' integer, 'B' binary, and 'M' implicit integer\n",
      "    (see https://www.scipopt.org/doc/html/FAQ.php#implicitinteger) (Default value = 'C')\n",
      "    :param lb: lower bound of the variable, use None for -infinity (Default value = 0.0)\n",
      "    :param ub: upper bound of the variable, use None for +infinity (Default value = None)\n",
      "    :param obj: objective value of variable (Default value = 0.0)\n",
      "    :param pricedVar: is the variable a pricing candidate? (Default value = False)\n",
      "    :param pricedVarScore: score of variable in case it is priced, the higher the better (Default value = 1.0)\n",
      "\n"
     ]
    }
   ],
   "source": [
    "model = Model()\n",
    "\n",
    "model.redirectOutput()\n",
    "model.printVersion()\n",
    "\n",
    "help(model.addVar)"
   ]
  },
  {
   "cell_type": "code",
   "execution_count": 3,
   "id": "18efd061",
   "metadata": {},
   "outputs": [],
   "source": [
    "pcorex = model.addVar(\"pcorex\", vtype='C', lb = 0.0, ub= 1.0)\n",
    "pcorey = model.addVar(\"pcorey\", vtype='C', lb = 0.0, ub= 1.0)\n",
    "nf = model.addVar(\"nf\", vtype='C', lb = 0.0, ub = 1.1)\n",
    "u1x = model.addVar(\"u1x\", vtype='I', lb = None)\n",
    "u1y = model.addVar(\"u1y\", vtype='I', lb = None)\n",
    "u2x = model.addVar(\"u2x\", vtype='I', lb = None)\n",
    "u2y = model.addVar(\"u2y\", vtype='I', lb = None)\n",
    "u3x = model.addVar(\"u3x\", vtype='I', lb = None)\n",
    "u3y = model.addVar(\"u3y\", vtype='I', lb = None)\n",
    "u4x = model.addVar(\"u4x\", vtype='I', lb = None)\n",
    "u4y = model.addVar(\"u4y\", vtype='I', lb = None)"
   ]
  },
  {
   "cell_type": "code",
   "execution_count": 4,
   "id": "467bd256",
   "metadata": {},
   "outputs": [
    {
     "name": "stdout",
     "output_type": "stream",
     "text": [
      "Help on method addCons in module pyscipopt.scip:\n",
      "\n",
      "addCons(cons, name='', initial=True, separate=True, enforce=True, check=True, propagate=True, local=False, modifiable=False, dynamic=False, removable=False, stickingatnode=False) method of pyscipopt.scip.Model instance\n",
      "    Add a linear or nonlinear constraint.\n",
      "    \n",
      "    :param cons: constraint object\n",
      "    :param name: the name of the constraint, generic name if empty (Default value = '')\n",
      "    :param initial: should the LP relaxation of constraint be in the initial LP? (Default value = True)\n",
      "    :param separate: should the constraint be separated during LP processing? (Default value = True)\n",
      "    :param enforce: should the constraint be enforced during node processing? (Default value = True)\n",
      "    :param check: should the constraint be checked for feasibility? (Default value = True)\n",
      "    :param propagate: should the constraint be propagated during node processing? (Default value = True)\n",
      "    :param local: is the constraint only valid locally? (Default value = False)\n",
      "    :param modifiable: is the constraint modifiable (subject to column generation)? (Default value = False)\n",
      "    :param dynamic: is the constraint subject to aging? (Default value = False)\n",
      "    :param removable: should the relaxation be removed from the LP due to aging or cleanup? (Default value = False)\n",
      "    :param stickingatnode: should the constraint always be kept at the node where it was added, even if it may be  moved to a more global node? (Default value = False)\n",
      "    :return The added @ref scip#Constraint \"Constraint\" object.\n",
      "\n"
     ]
    }
   ],
   "source": [
    "help(model.addCons)"
   ]
  },
  {
   "cell_type": "code",
   "execution_count": 5,
   "id": "bd679601",
   "metadata": {},
   "outputs": [],
   "source": [
    "cons1 = model.addCons(pcorey - u1y - nf == 0)\n",
    "cons2 = model.addCons(pcorex - u2x - nf == 0)\n",
    "cons3 = model.addCons(-pcorey + u3y - nf == 0)\n",
    "cons4 = model.addCons(-pcorex - pcorey + u4x +u4y - nf == 0)\n",
    "cons5 = model.addCons(u1x - u2x >= 0)\n",
    "cons6 = model.addCons(-u1y + u3y >= 0)\n",
    "cons7 = model.addCons(-u1x - u1y + u4x + u4y >= 0)\n",
    "cons8 = model.addCons(u2y - u1y >= 0)\n",
    "cons9 = model.addCons(-u2y + u3y >= 0)\n",
    "cons10 = model.addCons(-u2x - u2y + u4x + u4y >= 0)\n",
    "cons11 = model.addCons(u3y - u1y >= 0)\n",
    "cons12 = model.addCons(u3x - u2x >= 0)\n",
    "cons13 = model.addCons(-u3x - u3y + u4x + u4y >= 0)\n",
    "cons14 = model.addCons(u4y - u1y >= 0)\n",
    "cons15 = model.addCons(u4x - u2x >= 0)\n",
    "cons16 = model.addCons(-u4y + u3y >= 0)"
   ]
  },
  {
   "cell_type": "code",
   "execution_count": 6,
   "id": "cb9055e9",
   "metadata": {},
   "outputs": [
    {
     "name": "stdout",
     "output_type": "stream",
     "text": [
      "feasible solution found by trivial heuristic after 0.0 seconds, objective value 0.000000e+00\n",
      "presolving:\n",
      "(round 1, fast)       3 del vars, 3 del conss, 0 add conss, 12 chg bounds, 0 chg sides, 0 chg coeffs, 0 upgd conss, 0 impls, 0 clqs\n",
      "(round 2, fast)       3 del vars, 3 del conss, 0 add conss, 13 chg bounds, 0 chg sides, 0 chg coeffs, 0 upgd conss, 0 impls, 0 clqs\n",
      "(round 3, exhaustive) 3 del vars, 6 del conss, 0 add conss, 13 chg bounds, 0 chg sides, 0 chg coeffs, 0 upgd conss, 0 impls, 0 clqs\n",
      "(round 4, exhaustive) 3 del vars, 6 del conss, 0 add conss, 13 chg bounds, 0 chg sides, 0 chg coeffs, 4 upgd conss, 0 impls, 0 clqs\n",
      "   (0.0s) symmetry computation started: requiring (bin +, int +, cont +), (fixed: bin -, int -, cont -)\n",
      "   (0.0s) no symmetry present (symcode time: 0.00)\n",
      "presolving (5 rounds: 5 fast, 3 medium, 3 exhaustive):\n",
      " 3 deleted vars, 6 deleted constraints, 0 added constraints, 13 tightened bounds, 0 added holes, 0 changed sides, 0 changed coefficients\n",
      " 0 implications, 0 cliques\n",
      "presolved problem has 8 variables (0 bin, 5 int, 0 impl, 3 cont) and 10 constraints\n",
      "      4 constraints of type <varbound>\n",
      "      6 constraints of type <linear>\n",
      "Presolving Time: 0.01\n",
      "transformed 1/1 original solutions to the transformed problem space\n",
      "\n",
      " time | node  | left  |LP iter|LP it/n|mem/heur|mdpt |vars |cons |rows |cuts |sepa|confs|strbr|  dualbound   | primalbound  |  gap   | compl. \n",
      "p 0.0s|     1 |     0 |     0 |     - | vbounds|   0 |   8 |  10 |  10 |   0 |  0 |   0 |   0 | 1.100000e+00 | 1.000000e+00 |  10.00%| unknown\n",
      "  0.0s|     1 |     0 |     7 |     - |   674k |   0 |   8 |   9 |  10 |   0 |  0 |   1 |   0 | 1.100000e+00 | 1.000000e+00 |  10.00%| unknown\n",
      "  0.0s|     1 |     0 |     8 |     - |   678k |   0 |   8 |   9 |  12 |   2 |  1 |   1 |   0 | 1.000000e+00 | 1.000000e+00 |   0.00%| unknown\n",
      "  0.0s|     1 |     0 |     8 |     - |   678k |   0 |   8 |   9 |  12 |   2 |  1 |   1 |   0 | 1.000000e+00 | 1.000000e+00 |   0.00%| unknown\n",
      "\n",
      "SCIP Status        : problem is solved [optimal solution found]\n",
      "Solving Time (sec) : 0.03\n",
      "Solving Nodes      : 1\n",
      "Primal Bound       : +1.00000000000000e+00 (3 solutions)\n",
      "Dual Bound         : +1.00000000000000e+00\n",
      "Gap                : 0.00 %\n"
     ]
    }
   ],
   "source": [
    "model.setObjective( nf ,\"maximize\")\n",
    "model.optimize()"
   ]
  },
  {
   "cell_type": "code",
   "execution_count": 7,
   "id": "9e15ce32",
   "metadata": {},
   "outputs": [
    {
     "name": "stdout",
     "output_type": "stream",
     "text": [
      "\n",
      " Best Solution:\n",
      "objective value:                                    1\n",
      "u1x                                                -1 \t(obj:0)\n",
      "u1y                                                -1 \t(obj:0)\n",
      "u2x                                                -1 \t(obj:0)\n",
      "u2y                                                -1 \t(obj:0)\n",
      "u3x                                                -1 \t(obj:0)\n",
      "u3y                                                 1 \t(obj:0)\n",
      "u4x                                                 2 \t(obj:0)\n",
      "u4y                                                -1 \t(obj:0)\n",
      "nf                                                  1 \t(obj:1)\n"
     ]
    }
   ],
   "source": [
    "print(\"\\n Best Solution:\")\n",
    "model.printBestSol()"
   ]
  },
  {
   "cell_type": "markdown",
   "id": "8c069a29",
   "metadata": {},
   "source": [
    "### Model for 2 times the standard triangle"
   ]
  },
  {
   "cell_type": "code",
   "execution_count": 40,
   "id": "7e4d0741",
   "metadata": {},
   "outputs": [
    {
     "name": "stdout",
     "output_type": "stream",
     "text": [
      "SCIP version 9.1.0 [precision: 8 byte] [memory: block] [mode: optimized] [LP solver: Soplex 7.1.0] [GitHash: NoGitInfo]\n",
      "Copyright (c) 2002-2024 Zuse Institute Berlin (ZIB)\n"
     ]
    }
   ],
   "source": [
    "model = Model()\n",
    "\n",
    "model.redirectOutput()\n",
    "model.printVersion()"
   ]
  },
  {
   "cell_type": "code",
   "execution_count": 41,
   "id": "e69cd48a",
   "metadata": {},
   "outputs": [
    {
     "name": "stdout",
     "output_type": "stream",
     "text": [
      "feasible solution found by trivial heuristic after 0.0 seconds, objective value 0.000000e+00\n",
      "presolving:\n",
      "(round 1, fast)       2 del vars, 2 del conss, 0 add conss, 8 chg bounds, 0 chg sides, 0 chg coeffs, 0 upgd conss, 0 impls, 0 clqs\n",
      "(round 2, fast)       2 del vars, 2 del conss, 0 add conss, 10 chg bounds, 0 chg sides, 0 chg coeffs, 0 upgd conss, 0 impls, 0 clqs\n",
      "(round 3, exhaustive) 2 del vars, 3 del conss, 0 add conss, 10 chg bounds, 0 chg sides, 0 chg coeffs, 0 upgd conss, 0 impls, 0 clqs\n",
      "(round 4, exhaustive) 2 del vars, 3 del conss, 0 add conss, 10 chg bounds, 0 chg sides, 0 chg coeffs, 2 upgd conss, 0 impls, 0 clqs\n",
      "   (0.0s) probing cycle finished: starting next cycle\n",
      "   (0.0s) symmetry computation started: requiring (bin +, int +, cont +), (fixed: bin -, int -, cont -)\n",
      "   (0.0s) symmetry computation finished: 1 generators found (max: 1500, log10 of symmetry group size: 0.0) (symcode time: 0.00)\n",
      "dynamic symmetry handling statistics:\n",
      "   orbitopal reduction:       no components\n",
      "   orbital reduction:         no components\n",
      "   lexicographic reduction:    1 permutations with support sizes 6\n",
      "handled 1 out of 1 symmetry components\n",
      "presolving (5 rounds: 5 fast, 3 medium, 3 exhaustive):\n",
      " 2 deleted vars, 3 deleted constraints, 0 added constraints, 10 tightened bounds, 0 added holes, 0 changed sides, 0 changed coefficients\n",
      " 8 implications, 0 cliques\n",
      "presolved problem has 7 variables (2 bin, 2 int, 0 impl, 3 cont) and 6 constraints\n",
      "      2 constraints of type <varbound>\n",
      "      4 constraints of type <linear>\n",
      "Presolving Time: 0.00\n",
      "transformed 1/1 original solutions to the transformed problem space\n",
      "\n",
      " time | node  | left  |LP iter|LP it/n|mem/heur|mdpt |vars |cons |rows |cuts |sepa|confs|strbr|  dualbound   | primalbound  |  gap   | compl. \n",
      "  0.0s|     1 |     0 |     4 |     - |   712k |   0 |   7 |   6 |   6 |   0 |  0 |   0 |   0 | 8.000000e-01 | 0.000000e+00 |    Inf | unknown\n",
      "  0.0s|     1 |     0 |     5 |     - |   717k |   0 |   7 |   6 |   7 |   1 |  1 |   0 |   0 | 6.666667e-01 | 0.000000e+00 |    Inf | unknown\n",
      "  0.0s|     1 |     0 |     5 |     - |   717k |   0 |   7 |   6 |   7 |   1 |  1 |   0 |   0 | 6.666667e-01 | 0.000000e+00 |    Inf | unknown\n",
      "L 0.0s|     1 |     0 |     5 |     - |    alns|   0 |   7 |   6 |   7 |   1 |  2 |   0 |   0 | 6.666667e-01 | 6.666667e-01 |   0.00%| unknown\n",
      "  0.0s|     1 |     0 |     5 |     - |   717k |   0 |   7 |   6 |   7 |   1 |  2 |   0 |   0 | 6.666667e-01 | 6.666667e-01 |   0.00%| unknown\n",
      "\n",
      "SCIP Status        : problem is solved [optimal solution found]\n",
      "Solving Time (sec) : 0.01\n",
      "Solving Nodes      : 1\n",
      "Primal Bound       : +6.66666666666667e-01 (3 solutions)\n",
      "Dual Bound         : +6.66666666666667e-01\n",
      "Gap                : 0.00 %\n"
     ]
    }
   ],
   "source": [
    "pcorex = model.addVar(\"pcorex\", vtype='C', lb = 0.0, ub= 1.0)\n",
    "pcorey = model.addVar(\"pcorey\", vtype='C', lb = 0.0, ub= 1.0)\n",
    "nf = model.addVar(\"nf\", vtype='C', lb = 0.0, ub = 0.8)\n",
    "u1x = model.addVar(\"u1x\", vtype='I', lb = None)\n",
    "u1y = model.addVar(\"u1y\", vtype='I', lb = None)\n",
    "u2x = model.addVar(\"u2x\", vtype='I', lb = None)\n",
    "u2y = model.addVar(\"u2y\", vtype='I', lb = None)\n",
    "u3x = model.addVar(\"u3x\", vtype='I', lb = None)\n",
    "u3y = model.addVar(\"u3y\", vtype='I', lb = None)\n",
    "\n",
    "\n",
    "cons1 = model.addCons(pcorey - u1y - nf == 0)\n",
    "cons2 = model.addCons(pcorex - u2x - nf == 0)\n",
    "cons3 = model.addCons(-pcorex - pcorey + u3x + u3y - nf == 0)\n",
    "\n",
    "cons4 = model.addCons(u1x - u2x >= 0)\n",
    "cons5 = model.addCons(-u1x - u1y + u3x + u3y >= 0)\n",
    "\n",
    "cons6 = model.addCons(u2y - u1y >= 0)\n",
    "cons7 = model.addCons(-u2x - u2y + u3x + u3y >= 0)\n",
    "\n",
    "cons8 = model.addCons(u3y - u1y >= 0)\n",
    "cons9 = model.addCons(u3x - u2x >= 0)\n",
    "\n",
    "\n",
    "model.setObjective( nf ,\"maximize\")\n",
    "model.optimize()"
   ]
  },
  {
   "cell_type": "code",
   "execution_count": 42,
   "id": "36a45523",
   "metadata": {},
   "outputs": [
    {
     "name": "stdout",
     "output_type": "stream",
     "text": [
      "\n",
      " Best Solution:\n",
      "objective value:                    0.666666666666667\n",
      "u3x                                                 2 \t(obj:0)\n",
      "pcorex                              0.666666666666667 \t(obj:0)\n",
      "pcorey                              0.666666666666667 \t(obj:0)\n",
      "nf                                  0.666666666666667 \t(obj:1)\n"
     ]
    }
   ],
   "source": [
    "print(\"\\n Best Solution:\")\n",
    "model.printBestSol()"
   ]
  },
  {
   "cell_type": "markdown",
   "id": "a1926549",
   "metadata": {},
   "source": [
    "### Model for the reflexive polytope (0,1),(1,1),(-1,-2) after filtering"
   ]
  },
  {
   "cell_type": "code",
   "execution_count": 75,
   "id": "b5dc6ccd",
   "metadata": {},
   "outputs": [
    {
     "name": "stdout",
     "output_type": "stream",
     "text": [
      "SCIP version 9.1.0 [precision: 8 byte] [memory: block] [mode: optimized] [LP solver: Soplex 7.1.0] [GitHash: NoGitInfo]\n",
      "Copyright (c) 2002-2024 Zuse Institute Berlin (ZIB)\n",
      "feasible solution found by trivial heuristic after 0.0 seconds, objective value 0.000000e+00\n",
      "presolving:\n",
      "(round 1, fast)       0 del vars, 0 del conss, 0 add conss, 4 chg bounds, 0 chg sides, 0 chg coeffs, 0 upgd conss, 0 impls, 0 clqs\n",
      "(round 2, fast)       0 del vars, 0 del conss, 0 add conss, 6 chg bounds, 0 chg sides, 0 chg coeffs, 0 upgd conss, 0 impls, 0 clqs\n",
      "(round 3, exhaustive) 0 del vars, 0 del conss, 0 add conss, 6 chg bounds, 0 chg sides, 0 chg coeffs, 2 upgd conss, 0 impls, 0 clqs\n",
      "   (0.0s) dualsparsify: 3 nonzeros canceled\n",
      "(round 4, exhaustive) 0 del vars, 0 del conss, 0 add conss, 6 chg bounds, 0 chg sides, 4 chg coeffs, 2 upgd conss, 0 impls, 0 clqs\n",
      "(round 5, fast)       1 del vars, 1 del conss, 0 add conss, 9 chg bounds, 0 chg sides, 4 chg coeffs, 2 upgd conss, 0 impls, 0 clqs\n",
      "   (0.0s) symmetry computation started: requiring (bin +, int +, cont +), (fixed: bin -, int -, cont -)\n",
      "   (0.0s) no symmetry present (symcode time: 0.00)\n",
      "presolving (6 rounds: 6 fast, 3 medium, 3 exhaustive):\n",
      " 1 deleted vars, 1 deleted constraints, 0 added constraints, 9 tightened bounds, 0 added holes, 0 changed sides, 4 changed coefficients\n",
      " 0 implications, 0 cliques\n",
      "presolved problem has 8 variables (0 bin, 5 int, 0 impl, 3 cont) and 8 constraints\n",
      "      2 constraints of type <varbound>\n",
      "      6 constraints of type <linear>\n",
      "Presolving Time: 0.00\n",
      "transformed 1/1 original solutions to the transformed problem space\n",
      "\n",
      " time | node  | left  |LP iter|LP it/n|mem/heur|mdpt |vars |cons |rows |cuts |sepa|confs|strbr|  dualbound   | primalbound  |  gap   | compl. \n",
      "  0.0s|     1 |     0 |     7 |     - |   651k |   0 |   8 |   8 |   8 |   0 |  0 |   0 |   0 | 2.600000e+00 | 0.000000e+00 |    Inf | unknown\n",
      "r 0.0s|     1 |     0 |     7 |     - |shifting|   0 |   8 |   8 |   8 |   0 |  0 |   0 |   0 | 2.600000e+00 | 1.000000e+00 | 160.00%| unknown\n",
      "  0.0s|     1 |     0 |     8 |     - |   672k |   0 |   8 |   8 |   9 |   1 |  1 |   0 |   0 | 2.333333e+00 | 1.000000e+00 | 133.33%| unknown\n",
      "r 0.0s|     1 |     0 |     8 |     - |shifting|   0 |   8 |   8 |   9 |   1 |  1 |   0 |   0 | 2.333333e+00 | 2.000000e+00 |  16.67%| unknown\n",
      "  0.0s|     1 |     0 |     8 |     - |   673k |   0 |   8 |   8 |   9 |   1 |  1 |   0 |   0 | 2.333333e+00 | 2.000000e+00 |  16.67%| unknown\n",
      "  0.0s|     1 |     0 |     8 |     - |   673k |   0 |   8 |   8 |   9 |   1 |  1 |   0 |   0 | 2.333333e+00 | 2.000000e+00 |  16.67%| unknown\n",
      "  0.0s|     1 |     0 |     9 |     - |   684k |   0 |   8 |   8 |  12 |   4 |  2 |   0 |   0 | 2.333333e+00 | 2.000000e+00 |  16.67%| unknown\n",
      "  0.0s|     1 |     0 |     9 |     - |   684k |   0 |   8 |   8 |  12 |   4 |  3 |   0 |   0 | 2.333333e+00 | 2.000000e+00 |  16.67%| unknown\n",
      "* 0.0s|     1 |     0 |     9 |     - |    LP  |   0 |   8 |   8 |  12 |   4 |  4 |   0 |   0 | 2.333333e+00 | 2.333333e+00 |   0.00%| unknown\n",
      "\n",
      "SCIP Status        : problem is solved [optimal solution found]\n",
      "Solving Time (sec) : 0.01\n",
      "Solving Nodes      : 1\n",
      "Primal Bound       : +2.33333333333333e+00 (4 solutions)\n",
      "Dual Bound         : +2.33333333333333e+00\n",
      "Gap                : 0.00 %\n"
     ]
    }
   ],
   "source": [
    "model = Model()\n",
    "\n",
    "model.redirectOutput()\n",
    "model.printVersion()\n",
    "\n",
    "pcorex = model.addVar(\"pcorex\", vtype='C', lb = 0.0, ub= 1.0)\n",
    "pcorey = model.addVar(\"pcorey\", vtype='C', lb = 0.0, ub= 1.0)\n",
    "nf = model.addVar(\"nf\", vtype='C', lb = 0.0, ub = 2.6)\n",
    "u1x = model.addVar(\"u1x\", vtype='I', lb = None)\n",
    "u1y = model.addVar(\"u1y\", vtype='I', lb = None)\n",
    "u2x = model.addVar(\"u2x\", vtype='I', lb = None)\n",
    "u2y = model.addVar(\"u2y\", vtype='I', lb = None)\n",
    "u3x = model.addVar(\"u3x\", vtype='I', lb = None)\n",
    "u3y = model.addVar(\"u3y\", vtype='I', lb = None)\n",
    "\n",
    "\n",
    "cons1 = model.addCons(pcorey - u1y - nf == 0)\n",
    "cons2 = model.addCons(pcorex + pcorey - u2x - u2y - nf == 0)\n",
    "cons3 = model.addCons(-pcorex - 2*pcorey + u3x + 2*u3y - nf == 0)\n",
    "\n",
    "cons4 = model.addCons(u1x + u1y - u2x - u2y >= 0)\n",
    "cons5 = model.addCons(-u1x - 2*u1y + u3x + 2*u3y >= 0)\n",
    "\n",
    "cons6 = model.addCons(u2y - u1y >= 0)\n",
    "cons7 = model.addCons(-u2x - 2*u2y + u3x + 2*u3y >= 0)\n",
    "\n",
    "cons8 = model.addCons(u3y - u1y >= 0)\n",
    "cons9 = model.addCons(u3x + u3y - u2x - u2y >= 0)\n",
    "\n",
    "\n",
    "model.setObjective( nf ,\"maximize\")\n",
    "model.optimize()"
   ]
  },
  {
   "cell_type": "code",
   "execution_count": 76,
   "id": "a392c1b9",
   "metadata": {},
   "outputs": [
    {
     "name": "stdout",
     "output_type": "stream",
     "text": [
      "\n",
      " Best Solution:\n",
      "objective value:                     2.33333333333333\n",
      "u1x                                                 1 \t(obj:0)\n",
      "u1y                                                -2 \t(obj:0)\n",
      "u2x                                                 1 \t(obj:0)\n",
      "u2y                                                -2 \t(obj:0)\n",
      "u3x                                                 8 \t(obj:0)\n",
      "u3y                                                -2 \t(obj:0)\n",
      "pcorex                                              1 \t(obj:0)\n",
      "pcorey                              0.333333333333333 \t(obj:0)\n",
      "nf                                   2.33333333333333 \t(obj:1)\n"
     ]
    }
   ],
   "source": [
    "print(\"\\n Best Solution:\")\n",
    "model.printBestSol()"
   ]
  },
  {
   "cell_type": "code",
   "execution_count": null,
   "id": "0ba3c9da",
   "metadata": {},
   "outputs": [],
   "source": []
  }
 ],
 "metadata": {
  "kernelspec": {
   "display_name": "Python 3",
   "language": "python",
   "name": "python3"
  },
  "language_info": {
   "codemirror_mode": {
    "name": "ipython",
    "version": 3
   },
   "file_extension": ".py",
   "mimetype": "text/x-python",
   "name": "python",
   "nbconvert_exporter": "python",
   "pygments_lexer": "ipython3",
   "version": "3.8.5"
  }
 },
 "nbformat": 4,
 "nbformat_minor": 5
}
